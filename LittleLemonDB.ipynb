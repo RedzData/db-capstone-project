{
 "cells": [
  {
   "cell_type": "code",
   "execution_count": 33,
   "id": "1387a35b-fac1-41c3-8cf9-8af99a914cab",
   "metadata": {},
   "outputs": [
    {
     "name": "stdout",
     "output_type": "stream",
     "text": [
      "Requirement already satisfied: mysql-connector-python in c:\\users\\redzo\\appdata\\local\\programs\\python\\python312\\lib\\site-packages (8.3.0)\n"
     ]
    }
   ],
   "source": [
    "!pip install mysql-connector-python"
   ]
  },
  {
   "cell_type": "code",
   "execution_count": 34,
   "id": "1b1f7952-f431-4f93-88ad-202f0a31d50d",
   "metadata": {},
   "outputs": [],
   "source": [
    "import mysql.connector as connector"
   ]
  },
  {
   "cell_type": "code",
   "execution_count": 38,
   "id": "61c376a5-f33d-4b89-849a-33dec76d7378",
   "metadata": {},
   "outputs": [],
   "source": [
    "connection = mysql.connector.connect(\n",
    "    host=\"Ridahs-Lenovo\",\n",
    "    user=\"root\",\n",
    "    password=\"UnitedUnion2020!\",\n",
    "    database=\"little_lemon_db\")"
   ]
  },
  {
   "cell_type": "code",
   "execution_count": 39,
   "id": "97e9bd6e-4911-43e9-a23b-50c24b70bc47",
   "metadata": {},
   "outputs": [],
   "source": [
    "cursor = connection.cursor()"
   ]
  },
  {
   "cell_type": "code",
   "execution_count": 40,
   "id": "79e0acf4-e546-4889-9b23-df2329e152ae",
   "metadata": {},
   "outputs": [],
   "source": [
    "show_tables_query = \"SHOW tables\""
   ]
  },
  {
   "cell_type": "code",
   "execution_count": 41,
   "id": "afdd332b-5af3-4291-b205-318c4b528aef",
   "metadata": {},
   "outputs": [],
   "source": [
    "cursor.execute(show_tables_query)"
   ]
  },
  {
   "cell_type": "code",
   "execution_count": 44,
   "id": "168945b3-1ef3-46f1-bc32-2584c1e13186",
   "metadata": {},
   "outputs": [],
   "source": [
    "tables = cursor.fetchall()"
   ]
  },
  {
   "cell_type": "code",
   "execution_count": 47,
   "id": "77febdfe-7b36-409f-ae7e-ec2943c9bbd3",
   "metadata": {},
   "outputs": [
    {
     "name": "stdout",
     "output_type": "stream",
     "text": [
      "('bookings',)\n",
      "('bookingsview',)\n",
      "('employees',)\n",
      "('menuitems',)\n",
      "('menus',)\n",
      "('orders',)\n",
      "('ordersview',)\n"
     ]
    }
   ],
   "source": [
    "for table in tables:\n",
    "    print(table)"
   ]
  },
  {
   "cell_type": "code",
   "execution_count": 50,
   "id": "2192d027-43c0-45a6-9c80-c9e13a5c2ca9",
   "metadata": {},
   "outputs": [],
   "source": [
    "# Define the join query\n",
    "join_query = \"\"\"\n",
    "SELECT \n",
    "    bookings.BookingID,\n",
    "    employees.EmployeeID,\n",
    "    employees.Name,\n",
    "    bookings.BookingID,\n",
    "    bookings.BookingSlot\n",
    "FROM \n",
    "    bookings\n",
    "JOIN \n",
    "    employees ON bookings.EmployeeID = employees.EmployeeID\n",
    "\"\"\"\n",
    "\n",
    "# Execute the join query\n",
    "cursor.execute(join_query)"
   ]
  },
  {
   "cell_type": "code",
   "execution_count": 51,
   "id": "17a731d0-bf20-447f-b758-ce035bbb7c02",
   "metadata": {},
   "outputs": [
    {
     "name": "stdout",
     "output_type": "stream",
     "text": [
      "(1, 1, 'Mario Gollini', 1, datetime.timedelta(seconds=68400))\n",
      "(2, 1, 'Mario Gollini', 2, datetime.timedelta(seconds=68400))\n",
      "(3, 3, 'Giorgos Dioudis', 3, datetime.timedelta(seconds=54000))\n",
      "(4, 4, 'Fatma Kaya', 4, datetime.timedelta(seconds=63000))\n",
      "(5, 2, 'Adrian Gollini', 5, datetime.timedelta(seconds=66600))\n",
      "(6, 5, 'Elena Salvai', 6, datetime.timedelta(seconds=72000))\n"
     ]
    }
   ],
   "source": [
    "# Fetch the results\n",
    "results = cursor.fetchall()\n",
    "\n",
    "# Print the results\n",
    "for row in results:\n",
    "    print(row)\n"
   ]
  },
  {
   "cell_type": "code",
   "execution_count": 57,
   "id": "47e6fb31-849d-49c4-a0b9-af647a49b4b1",
   "metadata": {},
   "outputs": [
    {
     "data": {
      "text/plain": [
       "False"
      ]
     },
     "execution_count": 57,
     "metadata": {},
     "output_type": "execute_result"
    }
   ],
   "source": [
    "cursor.close()"
   ]
  },
  {
   "cell_type": "code",
   "execution_count": 58,
   "id": "f31fe144-f352-4df8-8b94-f7b8c9969f64",
   "metadata": {},
   "outputs": [],
   "source": [
    "connection.close()"
   ]
  },
  {
   "cell_type": "code",
   "execution_count": 59,
   "id": "4cfb5813-8603-495a-b120-715981721d0e",
   "metadata": {},
   "outputs": [],
   "source": [
    "cursor.close()\n",
    "connection.close()"
   ]
  }
 ],
 "metadata": {
  "kernelspec": {
   "display_name": "Python 3 (ipykernel)",
   "language": "python",
   "name": "python3"
  },
  "language_info": {
   "codemirror_mode": {
    "name": "ipython",
    "version": 3
   },
   "file_extension": ".py",
   "mimetype": "text/x-python",
   "name": "python",
   "nbconvert_exporter": "python",
   "pygments_lexer": "ipython3",
   "version": "3.12.0"
  }
 },
 "nbformat": 4,
 "nbformat_minor": 5
}
